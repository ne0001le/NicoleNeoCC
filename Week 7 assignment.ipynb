{
 "cells": [
  {
   "cell_type": "code",
   "execution_count": 1,
   "id": "4a9258b0",
   "metadata": {},
   "outputs": [],
   "source": [
    "import pandas"
   ]
  },
  {
   "cell_type": "code",
   "execution_count": 2,
   "id": "10267e8d",
   "metadata": {},
   "outputs": [],
   "source": [
    "df=pandas.read_csv(\"Credit Card Default II (balance).csv\")"
   ]
  },
  {
   "cell_type": "code",
   "execution_count": 3,
   "id": "f55416fd",
   "metadata": {},
   "outputs": [
    {
     "data": {
      "text/html": [
       "<div>\n",
       "<style scoped>\n",
       "    .dataframe tbody tr th:only-of-type {\n",
       "        vertical-align: middle;\n",
       "    }\n",
       "\n",
       "    .dataframe tbody tr th {\n",
       "        vertical-align: top;\n",
       "    }\n",
       "\n",
       "    .dataframe thead th {\n",
       "        text-align: right;\n",
       "    }\n",
       "</style>\n",
       "<table border=\"1\" class=\"dataframe\">\n",
       "  <thead>\n",
       "    <tr style=\"text-align: right;\">\n",
       "      <th></th>\n",
       "      <th>income</th>\n",
       "      <th>age</th>\n",
       "      <th>loan</th>\n",
       "      <th>default</th>\n",
       "    </tr>\n",
       "  </thead>\n",
       "  <tbody>\n",
       "    <tr>\n",
       "      <th>0</th>\n",
       "      <td>66155.925100</td>\n",
       "      <td>59.017015</td>\n",
       "      <td>8106.532131</td>\n",
       "      <td>0</td>\n",
       "    </tr>\n",
       "    <tr>\n",
       "      <th>1</th>\n",
       "      <td>34415.153970</td>\n",
       "      <td>48.117153</td>\n",
       "      <td>6564.745018</td>\n",
       "      <td>0</td>\n",
       "    </tr>\n",
       "    <tr>\n",
       "      <th>2</th>\n",
       "      <td>57317.170060</td>\n",
       "      <td>63.108049</td>\n",
       "      <td>8020.953296</td>\n",
       "      <td>0</td>\n",
       "    </tr>\n",
       "    <tr>\n",
       "      <th>3</th>\n",
       "      <td>42709.534200</td>\n",
       "      <td>45.751972</td>\n",
       "      <td>6103.642260</td>\n",
       "      <td>0</td>\n",
       "    </tr>\n",
       "    <tr>\n",
       "      <th>4</th>\n",
       "      <td>66952.688850</td>\n",
       "      <td>18.584336</td>\n",
       "      <td>8770.099235</td>\n",
       "      <td>1</td>\n",
       "    </tr>\n",
       "    <tr>\n",
       "      <th>...</th>\n",
       "      <td>...</td>\n",
       "      <td>...</td>\n",
       "      <td>...</td>\n",
       "      <td>...</td>\n",
       "    </tr>\n",
       "    <tr>\n",
       "      <th>3423</th>\n",
       "      <td>60903.191726</td>\n",
       "      <td>21.933924</td>\n",
       "      <td>10367.081892</td>\n",
       "      <td>1</td>\n",
       "    </tr>\n",
       "    <tr>\n",
       "      <th>3424</th>\n",
       "      <td>62235.644695</td>\n",
       "      <td>25.033016</td>\n",
       "      <td>8083.900063</td>\n",
       "      <td>1</td>\n",
       "    </tr>\n",
       "    <tr>\n",
       "      <th>3425</th>\n",
       "      <td>25597.850590</td>\n",
       "      <td>26.350344</td>\n",
       "      <td>3810.110335</td>\n",
       "      <td>1</td>\n",
       "    </tr>\n",
       "    <tr>\n",
       "      <th>3426</th>\n",
       "      <td>48164.194974</td>\n",
       "      <td>23.141976</td>\n",
       "      <td>6529.652892</td>\n",
       "      <td>1</td>\n",
       "    </tr>\n",
       "    <tr>\n",
       "      <th>3427</th>\n",
       "      <td>33055.808635</td>\n",
       "      <td>26.289612</td>\n",
       "      <td>5351.851138</td>\n",
       "      <td>1</td>\n",
       "    </tr>\n",
       "  </tbody>\n",
       "</table>\n",
       "<p>3428 rows × 4 columns</p>\n",
       "</div>"
      ],
      "text/plain": [
       "            income        age          loan  default\n",
       "0     66155.925100  59.017015   8106.532131        0\n",
       "1     34415.153970  48.117153   6564.745018        0\n",
       "2     57317.170060  63.108049   8020.953296        0\n",
       "3     42709.534200  45.751972   6103.642260        0\n",
       "4     66952.688850  18.584336   8770.099235        1\n",
       "...            ...        ...           ...      ...\n",
       "3423  60903.191726  21.933924  10367.081892        1\n",
       "3424  62235.644695  25.033016   8083.900063        1\n",
       "3425  25597.850590  26.350344   3810.110335        1\n",
       "3426  48164.194974  23.141976   6529.652892        1\n",
       "3427  33055.808635  26.289612   5351.851138        1\n",
       "\n",
       "[3428 rows x 4 columns]"
      ]
     },
     "execution_count": 3,
     "metadata": {},
     "output_type": "execute_result"
    }
   ],
   "source": [
    "df"
   ]
  },
  {
   "cell_type": "code",
   "execution_count": 10,
   "id": "4da860b7",
   "metadata": {},
   "outputs": [
    {
     "name": "stdout",
     "output_type": "stream",
     "text": [
      "income     0\n",
      "age        0\n",
      "loan       0\n",
      "default    0\n",
      "dtype: int64\n"
     ]
    }
   ],
   "source": [
    "print(df.isnull().sum().sort_values())\n",
    "\n",
    "#no null valaues in dataset, no need to remove"
   ]
  },
  {
   "cell_type": "code",
   "execution_count": 24,
   "id": "ebab8a81",
   "metadata": {},
   "outputs": [
    {
     "data": {
      "text/plain": [
       "income     float64\n",
       "age        float64\n",
       "loan       float64\n",
       "default      int64\n",
       "dtype: object"
      ]
     },
     "execution_count": 24,
     "metadata": {},
     "output_type": "execute_result"
    }
   ],
   "source": [
    "#check datatype\n",
    "df.dtypes"
   ]
  },
  {
   "cell_type": "code",
   "execution_count": 16,
   "id": "4de87ece",
   "metadata": {},
   "outputs": [
    {
     "name": "stderr",
     "output_type": "stream",
     "text": [
      "C:\\Users\\user\\AppData\\Local\\Temp/ipykernel_8228/1320517513.py:4: DeprecationWarning: `np.float` is a deprecated alias for the builtin `float`. To silence this warning, use `float` by itself. Doing this will not modify any behavior and is safe. If you specifically wanted the numpy scalar type, use `np.float64` here.\n",
      "Deprecated in NumPy 1.20; for more details and guidance: https://numpy.org/devdocs/release/1.20.0-notes.html#deprecations\n",
      "  z = stats.zscore(df.astype(np.float)) #zscore conversion need float\n"
     ]
    }
   ],
   "source": [
    "#remove outlier\n",
    "import numpy as np\n",
    "from scipy import stats\n",
    "z = stats.zscore(df.astype(np.float)) #zscore conversion need float\n",
    "z = np.abs(z) #convert all to positive because the parity is not important\n",
    "f = (z < 3).all(axis=1) #3 is your choice, axis =1 means by columns, f is a flag\n",
    "df = df[f]\n"
   ]
  },
  {
   "cell_type": "code",
   "execution_count": 17,
   "id": "20810a2f",
   "metadata": {},
   "outputs": [
    {
     "data": {
      "text/html": [
       "<div>\n",
       "<style scoped>\n",
       "    .dataframe tbody tr th:only-of-type {\n",
       "        vertical-align: middle;\n",
       "    }\n",
       "\n",
       "    .dataframe tbody tr th {\n",
       "        vertical-align: top;\n",
       "    }\n",
       "\n",
       "    .dataframe thead th {\n",
       "        text-align: right;\n",
       "    }\n",
       "</style>\n",
       "<table border=\"1\" class=\"dataframe\">\n",
       "  <thead>\n",
       "    <tr style=\"text-align: right;\">\n",
       "      <th></th>\n",
       "      <th>income</th>\n",
       "      <th>age</th>\n",
       "      <th>loan</th>\n",
       "      <th>default</th>\n",
       "    </tr>\n",
       "  </thead>\n",
       "  <tbody>\n",
       "    <tr>\n",
       "      <th>0</th>\n",
       "      <td>66155.925100</td>\n",
       "      <td>59.017015</td>\n",
       "      <td>8106.532131</td>\n",
       "      <td>0</td>\n",
       "    </tr>\n",
       "    <tr>\n",
       "      <th>1</th>\n",
       "      <td>34415.153970</td>\n",
       "      <td>48.117153</td>\n",
       "      <td>6564.745018</td>\n",
       "      <td>0</td>\n",
       "    </tr>\n",
       "    <tr>\n",
       "      <th>2</th>\n",
       "      <td>57317.170060</td>\n",
       "      <td>63.108049</td>\n",
       "      <td>8020.953296</td>\n",
       "      <td>0</td>\n",
       "    </tr>\n",
       "    <tr>\n",
       "      <th>3</th>\n",
       "      <td>42709.534200</td>\n",
       "      <td>45.751972</td>\n",
       "      <td>6103.642260</td>\n",
       "      <td>0</td>\n",
       "    </tr>\n",
       "    <tr>\n",
       "      <th>4</th>\n",
       "      <td>66952.688850</td>\n",
       "      <td>18.584336</td>\n",
       "      <td>8770.099235</td>\n",
       "      <td>1</td>\n",
       "    </tr>\n",
       "    <tr>\n",
       "      <th>...</th>\n",
       "      <td>...</td>\n",
       "      <td>...</td>\n",
       "      <td>...</td>\n",
       "      <td>...</td>\n",
       "    </tr>\n",
       "    <tr>\n",
       "      <th>3423</th>\n",
       "      <td>60903.191726</td>\n",
       "      <td>21.933924</td>\n",
       "      <td>10367.081892</td>\n",
       "      <td>1</td>\n",
       "    </tr>\n",
       "    <tr>\n",
       "      <th>3424</th>\n",
       "      <td>62235.644695</td>\n",
       "      <td>25.033016</td>\n",
       "      <td>8083.900063</td>\n",
       "      <td>1</td>\n",
       "    </tr>\n",
       "    <tr>\n",
       "      <th>3425</th>\n",
       "      <td>25597.850590</td>\n",
       "      <td>26.350344</td>\n",
       "      <td>3810.110335</td>\n",
       "      <td>1</td>\n",
       "    </tr>\n",
       "    <tr>\n",
       "      <th>3426</th>\n",
       "      <td>48164.194974</td>\n",
       "      <td>23.141976</td>\n",
       "      <td>6529.652892</td>\n",
       "      <td>1</td>\n",
       "    </tr>\n",
       "    <tr>\n",
       "      <th>3427</th>\n",
       "      <td>33055.808635</td>\n",
       "      <td>26.289612</td>\n",
       "      <td>5351.851138</td>\n",
       "      <td>1</td>\n",
       "    </tr>\n",
       "  </tbody>\n",
       "</table>\n",
       "<p>3425 rows × 4 columns</p>\n",
       "</div>"
      ],
      "text/plain": [
       "            income        age          loan  default\n",
       "0     66155.925100  59.017015   8106.532131        0\n",
       "1     34415.153970  48.117153   6564.745018        0\n",
       "2     57317.170060  63.108049   8020.953296        0\n",
       "3     42709.534200  45.751972   6103.642260        0\n",
       "4     66952.688850  18.584336   8770.099235        1\n",
       "...            ...        ...           ...      ...\n",
       "3423  60903.191726  21.933924  10367.081892        1\n",
       "3424  62235.644695  25.033016   8083.900063        1\n",
       "3425  25597.850590  26.350344   3810.110335        1\n",
       "3426  48164.194974  23.141976   6529.652892        1\n",
       "3427  33055.808635  26.289612   5351.851138        1\n",
       "\n",
       "[3425 rows x 4 columns]"
      ]
     },
     "execution_count": 17,
     "metadata": {},
     "output_type": "execute_result"
    }
   ],
   "source": [
    "df"
   ]
  },
  {
   "cell_type": "code",
   "execution_count": 21,
   "id": "811c97e6",
   "metadata": {},
   "outputs": [],
   "source": [
    "#split into x and y variables\n",
    "Y = df.iloc[:,3]\n",
    "X = df.iloc[:, 0:3]"
   ]
  },
  {
   "cell_type": "code",
   "execution_count": 34,
   "id": "72bbb933",
   "metadata": {},
   "outputs": [
    {
     "name": "stdout",
     "output_type": "stream",
     "text": [
      "           income        age          loan\n",
      "1789  36535.31539  29.874892    271.725188\n",
      "829   40230.97571  58.794096    745.194749\n",
      "910   57330.61941  44.445651   1058.039202\n",
      "1936  48187.34788  55.533010   2003.411850\n",
      "91    42095.42220  55.366188   1183.704568\n",
      "...           ...        ...           ...\n",
      "708   29163.01588  43.956171   1469.129704\n",
      "1861  55313.83225  25.212565   9733.113189\n",
      "1689  31920.41272  52.159060    217.187962\n",
      "1625  52263.35550  34.296092  10161.946670\n",
      "1470  59475.49718  36.737130   2628.262124\n",
      "\n",
      "[2397 rows x 3 columns]             income        age          loan\n",
      "2818  48358.326931  30.847529   7727.871347\n",
      "2759  61603.033724  30.165424  10383.435840\n",
      "2488  64791.974021  29.085557  11618.106207\n",
      "1882  51286.656400  45.859827   1134.234384\n",
      "149   65635.661530  51.167714  12701.603480\n",
      "...            ...        ...           ...\n",
      "3405  43830.252484  24.290157   7597.574619\n",
      "357   58597.383250  53.288034   2588.490266\n",
      "2481  44294.452223  19.952635   8721.788885\n",
      "2801  34720.352541  20.058818   5016.762894\n",
      "1901  48031.067410  43.670164   7826.325909\n",
      "\n",
      "[1028 rows x 3 columns] 1789    0\n",
      "829     0\n",
      "910     0\n",
      "1936    0\n",
      "91      0\n",
      "       ..\n",
      "708     0\n",
      "1861    1\n",
      "1689    0\n",
      "1625    1\n",
      "1470    0\n",
      "Name: default, Length: 2397, dtype: int64 2818    1\n",
      "2759    1\n",
      "2488    1\n",
      "1882    0\n",
      "149     0\n",
      "       ..\n",
      "3405    1\n",
      "357     0\n",
      "2481    1\n",
      "2801    1\n",
      "1901    0\n",
      "Name: default, Length: 1028, dtype: int64\n",
      "[[1061  136]\n",
      " [ 206  994]]\n",
      "0.8573216520650814\n",
      "[[449  65]\n",
      " [ 88 426]]\n",
      "0.8511673151750972\n"
     ]
    }
   ],
   "source": [
    "#logistic regression\n",
    "from sklearn.model_selection import train_test_split\n",
    "X_train, X_test, Y_train, Y_test = train_test_split(X,Y, test_size=0.3)\n",
    "print(X_train, X_test, Y_train, Y_test )\n",
    "\n",
    "from sklearn import linear_model\n",
    "model = linear_model.LogisticRegression()\n",
    "model.fit(X_train, Y_train)\n",
    "pred = model.predict(X_train)\n",
    "\n",
    "from sklearn.metrics import confusion_matrix\n",
    "cm = confusion_matrix(Y_train, pred)\n",
    "print(cm)\n",
    "accuracy = (cm[0,0]+cm[1,1])/sum(sum(cm))\n",
    "print(accuracy)\n",
    "\n",
    "\n",
    "pred = model.predict(X_test)\n",
    "cm = confusion_matrix(Y_test, pred)\n",
    "print(cm)\n",
    "accuracy = (cm[0,0]+cm[1,1])/sum(sum(cm))\n",
    "print(accuracy)\n"
   ]
  },
  {
   "cell_type": "code",
   "execution_count": 36,
   "id": "293f1823",
   "metadata": {},
   "outputs": [
    {
     "name": "stdout",
     "output_type": "stream",
     "text": [
      "[[1063  137]\n",
      " [   0 1197]]\n",
      "0.9428452231956612\n",
      "[[452  59]\n",
      " [  1 516]]\n",
      "0.9416342412451362\n"
     ]
    }
   ],
   "source": [
    "#decision tree\n",
    "\n",
    "from sklearn.model_selection import train_test_split\n",
    "X_train, X_test, Y_train, Y_test = train_test_split(X,Y, test_size=0.3)\n",
    "\n",
    "from sklearn.tree import DecisionTreeClassifier\n",
    "model = DecisionTreeClassifier(max_depth=3)\n",
    "model.fit(X_train, Y_train)\n",
    "pred = model.predict(X_train)\n",
    "\n",
    "from sklearn.metrics import confusion_matrix\n",
    "cm = confusion_matrix(Y_train, pred)\n",
    "print(cm)\n",
    "accuracy = (cm[0,0] + cm[1,1])/sum(sum(cm))\n",
    "print(accuracy)\n",
    "\n",
    "pred = model.predict(X_test)\n",
    "cm = confusion_matrix(Y_test, pred)\n",
    "print(cm)\n",
    "accuracy = (cm[0,0] + cm[1,1])/sum(sum(cm))\n",
    "print(accuracy)\n"
   ]
  },
  {
   "cell_type": "code",
   "execution_count": null,
   "id": "5b240e7a",
   "metadata": {},
   "outputs": [],
   "source": [
    "#decision tree\n",
    "\n",
    "#optimisation\n",
    "for i in range(100):\n",
    "    print(i)\n",
    "    model = tree.DecisionTreeRegressor(min_samples_split = i+2)\n",
    "    model.fit(X_train1, Y_train1)\n",
    "    pred = model.predict(X_validate)\n",
    "    rmse = metrics.mean_squared_error(Y_validate, pred) ** 0.5\n",
    "    print(rmse)\n"
   ]
  },
  {
   "cell_type": "code",
   "execution_count": 37,
   "id": "8d07a2db",
   "metadata": {},
   "outputs": [
    {
     "name": "stdout",
     "output_type": "stream",
     "text": [
      "[[1079  121]\n",
      " [   1 1196]]\n",
      "0.9491030454735085\n",
      "[[463  48]\n",
      " [  2 515]]\n",
      "0.9513618677042801\n"
     ]
    }
   ],
   "source": [
    "#random forest\n",
    "\n",
    "from sklearn.ensemble import RandomForestClassifier\n",
    "model = RandomForestClassifier(max_depth=3)\n",
    "model.fit(X_train, Y_train)\n",
    "pred = model.predict(X_train)\n",
    "\n",
    "from sklearn.metrics import confusion_matrix\n",
    "cm = confusion_matrix(Y_train, pred)\n",
    "print(cm)\n",
    "accuracy = (cm[0,0] + cm[1,1])/sum(sum(cm))\n",
    "print(accuracy)\n",
    "\n",
    "pred = model.predict(X_test)\n",
    "cm = confusion_matrix(Y_test, pred)\n",
    "print(cm)\n",
    "accuracy = (cm[0,0] + cm[1,1])/sum(sum(cm))\n",
    "print(accuracy)\n"
   ]
  },
  {
   "cell_type": "code",
   "execution_count": 38,
   "id": "06c46dcf",
   "metadata": {},
   "outputs": [
    {
     "name": "stdout",
     "output_type": "stream",
     "text": [
      "[[1199    1]\n",
      " [   0 1197]]\n",
      "0.9995828118481435\n",
      "[[504   7]\n",
      " [  2 515]]\n",
      "0.9912451361867705\n"
     ]
    }
   ],
   "source": [
    "#XGBoost\n",
    "\n",
    "from sklearn.ensemble import GradientBoostingClassifier\n",
    "model = GradientBoostingClassifier(max_depth=3)\n",
    "model.fit(X_train, Y_train)\n",
    "pred = model.predict(X_train)\n",
    "\n",
    "from sklearn.metrics import confusion_matrix\n",
    "cm = confusion_matrix(Y_train, pred)\n",
    "print(cm)\n",
    "accuracy = (cm[0,0] + cm[1,1])/sum(sum(cm))\n",
    "print(accuracy)\n",
    "\n",
    "pred = model.predict(X_test)\n",
    "cm = confusion_matrix(Y_test, pred)\n",
    "print(cm)\n",
    "accuracy = (cm[0,0] + cm[1,1])/sum(sum(cm))\n",
    "print(accuracy)\n"
   ]
  },
  {
   "cell_type": "code",
   "execution_count": 46,
   "id": "62999ab6",
   "metadata": {},
   "outputs": [
    {
     "name": "stdout",
     "output_type": "stream",
     "text": [
      "[0 1 1 ... 1 1 1]\n",
      "[[1299  412]\n",
      " [ 162 1552]]\n"
     ]
    },
    {
     "name": "stderr",
     "output_type": "stream",
     "text": [
      "C:\\Users\\user\\anaconda3\\lib\\site-packages\\sklearn\\neural_network\\_multilayer_perceptron.py:500: ConvergenceWarning: lbfgs failed to converge (status=2):\n",
      "ABNORMAL_TERMINATION_IN_LNSRCH.\n",
      "\n",
      "Increase the number of iterations (max_iter) or scale the data as shown in:\n",
      "    https://scikit-learn.org/stable/modules/preprocessing.html\n",
      "  self.n_iter_ = _check_optimize_result(\"lbfgs\", opt_res, self.max_iter)\n"
     ]
    }
   ],
   "source": [
    "#Neural network MLP\n",
    "\n",
    "from sklearn.neural_network import MLPClassifier\n",
    "model=MLPClassifier(solver=\"lbfgs\",hidden_layer_sizes=(7,8))\n",
    "model.fit(X,Y)\n",
    "pred=model.predict(X)\n",
    "print(pred)\n",
    "\n",
    "#confusion matrix\n",
    "\n",
    "from sklearn.metrics import confusion_matrix\n",
    "cm=confusion_matrix(Y,pred)\n",
    "print(cm)\n"
   ]
  },
  {
   "cell_type": "code",
   "execution_count": 47,
   "id": "cb2bb217",
   "metadata": {},
   "outputs": [
    {
     "data": {
      "text/plain": [
       "['Creditcard']"
      ]
     },
     "execution_count": 47,
     "metadata": {},
     "output_type": "execute_result"
    }
   ],
   "source": [
    "#dump model\n",
    "\n",
    "import joblib\n",
    "joblib.dump(model,\"Creditcard\")"
   ]
  },
  {
   "cell_type": "code",
   "execution_count": null,
   "id": "73beab43",
   "metadata": {},
   "outputs": [],
   "source": []
  }
 ],
 "metadata": {
  "kernelspec": {
   "display_name": "Python 3 (ipykernel)",
   "language": "python",
   "name": "python3"
  },
  "language_info": {
   "codemirror_mode": {
    "name": "ipython",
    "version": 3
   },
   "file_extension": ".py",
   "mimetype": "text/x-python",
   "name": "python",
   "nbconvert_exporter": "python",
   "pygments_lexer": "ipython3",
   "version": "3.9.7"
  }
 },
 "nbformat": 4,
 "nbformat_minor": 5
}
